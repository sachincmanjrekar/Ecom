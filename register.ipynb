{
 "cells": [
  {
   "cell_type": "code",
   "execution_count": null,
   "id": "a4ec065a",
   "metadata": {},
   "outputs": [],
   "source": [
    "def reg():                                                      #Reg() function is used for Registration\n",
    "    from ipynb.fs.full.validate_email import Validate_emailid\n",
    "    from ipynb.fs.full.validate_pw import Validate_password\n",
    "    from ipynb.fs.full.verification import verification\n",
    "    test_mail = input(\"\\nEnter the new mailID to Register: \")\n",
    "    RESULT_1=Validate_emailid(test_mail)\n",
    "\n",
    "    if RESULT_1:\n",
    "        EXIST=verification(test_mail)\n",
    "        \n",
    "        if(EXIST==False):                                       #If Given mailID doesn't exist, then only it go ahead with Registration\n",
    "            print(\"Valid mailID\")\n",
    "            test_password = input(\"\\nEnter the Password : \")\n",
    "            RESULT_2 = Validate_password(test_password)\n",
    "\n",
    "            if RESULT_2:\n",
    "                print(\"Valid Password\")\n",
    "            else:\n",
    "                print(\"\\n***Invaid Password***\\n Password must contain atleast 1 Capital letter,1 Small letter,1 digit,1 Special Charcter each\\n\")\n",
    "        else:\n",
    "            print(\"\\nMail ID already exist , Please register with new mailID\")\n",
    "            print(\"If you Forgot password, you can choose Retrieve the password or Set new password\")\n",
    "            \n",
    "    else:\n",
    "        print(\"**Invalid MailID**\")\n",
    "    \n",
    "    if(RESULT_1 and not EXIST and RESULT_2):                    #If Given maiiID doesn't exist in database,Both new mailID and password is valid, then it will Register\n",
    "        a=input(\"Enter First name : \")\n",
    "        b=input(\"Enter Last name : \")\n",
    "\n",
    "        \n",
    "        str=test_mail+\" \"+test_password+\" \"+a+\" \"+b+\"\\n\"                    #create new string by joining 'EmailId' and 'Password' with space and add newline character(\\n) at the end of it\n",
    "        f=open(\"EcomUser.txt\",'a')                            #Append this newstring\n",
    "        f.write(str)\n",
    "        f.close()\n",
    "        print(\"\\n***Registration is Successful***\\n\")"
   ]
  }
 ],
 "metadata": {
  "hide_input": false,
  "kernelspec": {
   "display_name": "Python 3 (ipykernel)",
   "language": "python",
   "name": "python3"
  },
  "language_info": {
   "codemirror_mode": {
    "name": "ipython",
    "version": 3
   },
   "file_extension": ".py",
   "mimetype": "text/x-python",
   "name": "python",
   "nbconvert_exporter": "python",
   "pygments_lexer": "ipython3",
   "version": "3.9.13"
  }
 },
 "nbformat": 4,
 "nbformat_minor": 5
}
