{
 "cells": [
  {
   "cell_type": "code",
   "execution_count": 1,
   "id": "bdd9bb22",
   "metadata": {},
   "outputs": [],
   "source": [
    "def Product_details(Product):\n",
    "                                           #if you want add new products\n",
    "    import pandas as pd\n",
    "    new_product=input(\"\\nIf you want to add new products? 1.Yes 2.No :\")\n",
    "    if new_product =='1':\n",
    "        datas=[]\n",
    "        while True:\n",
    "\n",
    "            name=input(\"name of product : \")\n",
    "            brand=input(\"Brand of product : \")\n",
    "            Barcode=int(input(\"Enter Barcode : \"))\n",
    "            Price=int(input(\"Enter Price : \"))\n",
    "\n",
    "            data=[name,brand,Barcode,Price,0,0]\n",
    "            datas.append(data)\n",
    "            more_new=input(\"\\nIf you want to more new products 1.Yes 2.No : \")\n",
    "            \n",
    "            \n",
    "            if more_new=='1':\n",
    "                continue\n",
    "            else:\n",
    "                df = pd.DataFrame(datas, columns=Product.columns)\n",
    "                new = pd.concat([Product, df],ignore_index=True)\n",
    "                return new\n",
    "    else:\n",
    "        return Product"
   ]
  },
  {
   "cell_type": "code",
   "execution_count": null,
   "id": "721b3a37",
   "metadata": {},
   "outputs": [],
   "source": []
  }
 ],
 "metadata": {
  "hide_input": false,
  "kernelspec": {
   "display_name": "Python 3 (ipykernel)",
   "language": "python",
   "name": "python3"
  },
  "language_info": {
   "codemirror_mode": {
    "name": "ipython",
    "version": 3
   },
   "file_extension": ".py",
   "mimetype": "text/x-python",
   "name": "python",
   "nbconvert_exporter": "python",
   "pygments_lexer": "ipython3",
   "version": "3.9.13"
  }
 },
 "nbformat": 4,
 "nbformat_minor": 5
}
