{
 "cells": [
  {
   "cell_type": "code",
   "execution_count": 4,
   "id": "21e69c37",
   "metadata": {},
   "outputs": [
    {
     "name": "stdout",
     "output_type": "stream",
     "text": [
      "Please select operation \n",
      "1.Registration of New User \n",
      "2.Login \n",
      "\n",
      "\n",
      "Enter your choice : adv\n",
      "If you are admin of this Ecom and likes to add more product 1.Yes 2.Noasv\n",
      "        name brand  Barcode  Price  Ratings  \\\n",
      "4  Product 5    b5       67    678      4.9   \n",
      "0  Product 1    b1       11    122      4.3   \n",
      "1  Product 2    b2       12    323      4.2   \n",
      "8  Product 9    b9       77    868      4.1   \n",
      "2  Product 3    b3       45    556      3.7   \n",
      "\n",
      "   Number of People who Reviewd a Product  \n",
      "4                                      34  \n",
      "0                                      33  \n",
      "1                                      23  \n",
      "8                                       6  \n",
      "2                                      12  \n"
     ]
    }
   ],
   "source": [
    "from ipynb.fs.full.validate_email import Validate_emailid\n",
    "from ipynb.fs.full.validate_pw import Validate_password\n",
    "from ipynb.fs.full.verification import verification\n",
    "from ipynb.fs.full.register import reg\n",
    "from ipynb.fs.full.login import login\n",
    "from ipynb.fs.full.product_details import Product_details\n",
    "from ipynb.fs.full.product_review import Product_Review\n",
    "from ipynb.fs.full.pagination import Product_Pagination\n",
    "\n",
    "import re\n",
    "import pandas as pd                           #upload sample products\n",
    " \n",
    "Product = pd.DataFrame({\n",
    "    \"name\": [\"Product 1\",\"Product 2\",\"Product 3\", 'Product 4','Product 5','Product 6','Product 7','Product 8','Product 9'],\n",
    "    \"brand\": ['b1','b2','b3','b4','b5','b6','b7','b8','b9'],\n",
    "    \"Barcode\":[11,12,45,34,67,88,16,46,77],\n",
    "    \"Price\":[122,323,556,212,678,245,789,127,868],\n",
    "    \"Ratings\":[4.3,4.2,3.7,2.6,4.9,3.4,1.2,2.7,4.1],\n",
    "    'Number of People who Reviewd a Product':[33,23,12,2,34,2,9,7,6]\n",
    "})       \n",
    "print(\"Please select operation \\n1.Registration of New User \\n2.Login \\n\")\n",
    "choice=input(\"\\nEnter your choice : \")\n",
    "\n",
    "if(choice == \"1\"):\n",
    "    reg()                          #Choose for Registration\n",
    "    \n",
    "if(choice == \"2\"):\n",
    "    login_success=login()                        #Choose for Login\n",
    "    if login_success==True:\n",
    "        Product=Product_Review(Product)\n",
    "\n",
    "new=input(\"If you are admin of this Ecom and likes to add more product 1.Yes 2.No\")\n",
    "if new=='Yes':\n",
    "    Product=Product_details(Product)\n",
    "\n",
    "print(Product_Pagination(Product))"
   ]
  },
  {
   "cell_type": "markdown",
   "id": "ad9f079b",
   "metadata": {},
   "source": [
    "## import re"
   ]
  },
  {
   "cell_type": "code",
   "execution_count": 3,
   "id": "687c1a66",
   "metadata": {},
   "outputs": [
    {
     "name": "stdout",
     "output_type": "stream",
     "text": [
      "        name brand  Barcode  Price  Ratings  \\\n",
      "0  Product 1    b1       11    122      4.3   \n",
      "1  Product 2    b2       12    323      4.2   \n",
      "2  Product 3    b3       45    556      3.7   \n",
      "3  Product 4    b4       34    212      2.6   \n",
      "4  Product 5    b5       67    678      4.9   \n",
      "5  Product 6    b6       88    245      3.4   \n",
      "6  Product 7    b7       16    789      1.2   \n",
      "7  Product 8    b8       46    127      2.7   \n",
      "8  Product 9    b9       77    868      4.1   \n",
      "\n",
      "   Number of People who Reviewd a Product  \n",
      "0                                      33  \n",
      "1                                      23  \n",
      "2                                      12  \n",
      "3                                       2  \n",
      "4                                      34  \n",
      "5                                       2  \n",
      "6                                       9  \n",
      "7                                       7  \n",
      "8                                       6  \n"
     ]
    }
   ],
   "source": [
    "rows_per_page = 10\n",
    "\n",
    "total_pages = (df.shape[0] + rows_per_page - 1) // rows_per_page\n",
    "current_page = 1\n",
    "start_index = (current_page - 1) * rows_per_page\n",
    "end_index = current_page * rows_per_page\n",
    "\n",
    "# Slice the dataframe to get the current page of rows\n",
    "current_page_df = df.iloc[start_index:end_index]\n",
    "print(current_page_df)"
   ]
  },
  {
   "cell_type": "code",
   "execution_count": 2,
   "id": "7ca1fcde",
   "metadata": {},
   "outputs": [
    {
     "name": "stdout",
     "output_type": "stream",
     "text": [
      "        name brand  Barcode  Price  Ratings  \\\n",
      "0  Product 1    b1       11    122      4.3   \n",
      "1  Product 2    b2       12    323      4.2   \n",
      "2  Product 3    b3       45    556      3.7   \n",
      "3  Product 4    b4       34    212      2.6   \n",
      "4  Product 5    b5       67    678      4.9   \n",
      "5  Product 6    b6       88    245      3.4   \n",
      "6  Product 7    b7       16    789      1.2   \n",
      "7  Product 8    b8       46    127      2.7   \n",
      "8  Product 9    b9       77    868      4.1   \n",
      "\n",
      "   Number of People who Reviewd a Product  \n",
      "0                                      33  \n",
      "1                                      23  \n",
      "2                                      12  \n",
      "3                                       2  \n",
      "4                                      34  \n",
      "5                                       2  \n",
      "6                                       9  \n",
      "7                                       7  \n",
      "8                                       6  \n"
     ]
    }
   ],
   "source": [
    "df = pd.DataFrame({\n",
    "    \"name\": [\"Product 1\",\"Product 2\",\"Product 3\", 'Product 4','Product 5','Product 6','Product 7','Product 8','Product 9'],\n",
    "    \"brand\": ['b1','b2','b3','b4','b5','b6','b7','b8','b9'],\n",
    "    \"Barcode\":[11,12,45,34,67,88,16,46,77],\n",
    "    \"Price\":[122,323,556,212,678,245,789,127,868],\n",
    "    \"Ratings\":[4.3,4.2,3.7,2.6,4.9,3.4,1.2,2.7,4.1],\n",
    "    'Number of People who Reviewd a Product':[33,23,12,2,34,2,9,7,6]\n",
    "})\n",
    "print(df)"
   ]
  },
  {
   "cell_type": "code",
   "execution_count": null,
   "id": "1dfd7375",
   "metadata": {},
   "outputs": [],
   "source": [
    "def hh(sfd):\n",
    "    asd\n",
    "\n",
    "a=2\n",
    "b=2\n",
    "if \n"
   ]
  }
 ],
 "metadata": {
  "hide_input": false,
  "kernelspec": {
   "display_name": "Python 3 (ipykernel)",
   "language": "python",
   "name": "python3"
  },
  "language_info": {
   "codemirror_mode": {
    "name": "ipython",
    "version": 3
   },
   "file_extension": ".py",
   "mimetype": "text/x-python",
   "name": "python",
   "nbconvert_exporter": "python",
   "pygments_lexer": "ipython3",
   "version": "3.9.13"
  }
 },
 "nbformat": 4,
 "nbformat_minor": 5
}
