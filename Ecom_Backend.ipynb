{
 "cells": [
  {
   "cell_type": "code",
   "execution_count": 1,
   "id": "21e69c37",
   "metadata": {},
   "outputs": [
    {
     "name": "stdout",
     "output_type": "stream",
     "text": [
      "Please select operation \n",
      "1.Registration of New User \n",
      "2.Login \n",
      "\n",
      "Enter your choice : 2\n",
      "\n",
      "Enter the mailID : scmanjrekar@gmail.com\n",
      "\n",
      "Enter the Password : gdft@22JJ\n",
      "\n",
      "Password Matches for the given email address, LOGIN SUCCESSFUL \n",
      "\n",
      "Did you Bought any product before in the Ecom Website and Would like to give reviews\n",
      " 1.Yes 2.No\n",
      "2\n",
      "\n",
      "Are you admin? 1.Yes 2.No :2\n",
      "\n",
      "Products Based on Ratings\n",
      "\n",
      "            name      brand  Barcode  Price  Ratings  \\\n",
      "0        Redbull    Redbull     6567    138      4.9   \n",
      "1          Pepsi    Pepsico     3463     69      4.3   \n",
      "2          Fanta  Coca-Cola     1236     69      4.2   \n",
      "3  HDX headphone       Sony     1377    868      4.1   \n",
      "4           7 up  Coca-Cola     4455     65      3.7   \n",
      "\n",
      "   Number of People who Reviewd a Product  \n",
      "0                                      34  \n",
      "1                                      33  \n",
      "2                                      23  \n",
      "3                                       6  \n",
      "4                                      12  \n"
     ]
    }
   ],
   "source": [
    "from ipynb.fs.full.validate_email import Validate_emailid\n",
    "from ipynb.fs.full.validate_pw import Validate_password\n",
    "from ipynb.fs.full.verification import verification\n",
    "from ipynb.fs.full.register import reg\n",
    "from ipynb.fs.full.login import login\n",
    "from ipynb.fs.full.product_details import Product_details\n",
    "from ipynb.fs.full.product_review import Product_Review\n",
    "from ipynb.fs.full.pagination import Product_Pagination\n",
    "\n",
    "import re\n",
    "import pandas as pd                           #upload sample products\n",
    " \n",
    "Product = pd.DataFrame({\n",
    "    \"name\": [\"Pepsi\",\"Fanta\",\"7 up\", 'Coca-Cola','Redbull','iPhione','Guva Juice','Washing Machine','HDX headphone'],\n",
    "    \"brand\": ['Pepsico','Coca-Cola','Coca-Cola','Coca-Cola','Redbull','Apple','Tropinoca','LG','Sony'],\n",
    "    \"Barcode\":[3463,1236,4455,4734,6567,8885,1766,4896,1377],\n",
    "    \"Price\":[69,69,65,81,138,100000,78,12700,868],\n",
    "    \"Ratings\":[4.3,4.2,3.7,2.6,4.9,3.4,1.2,2.7,4.1],\n",
    "    'Number of People who Reviewd a Product':[33,23,12,2,34,2,9,7,6]\n",
    "})       \n",
    "print(\"Please select operation \\n1.Registration of New User \\n2.Login \\n\")\n",
    "choice=input(\"Enter your choice : \")\n",
    "\n",
    "if(choice == \"1\"):\n",
    "    reg()                          #Choose for Registration\n",
    "    \n",
    "if(choice == \"2\"):\n",
    "    login_success=login()                        #Choose for Login\n",
    "    if login_success==True:\n",
    "        Product=Product_Review(Product)\n",
    "\n",
    "new=input(\"\\nAre you admin? 1.Yes 2.No :\")\n",
    "if new=='Yes':\n",
    "    Product=Product_details(Product)\n",
    "\n",
    "print(\"\\nProducts Based on Ratings\\n\")\n",
    "print(Product_Pagination(Product))"
   ]
  },
  {
   "cell_type": "code",
   "execution_count": null,
   "id": "cd840d7e",
   "metadata": {},
   "outputs": [],
   "source": []
  }
 ],
 "metadata": {
  "hide_input": false,
  "kernelspec": {
   "display_name": "Python 3 (ipykernel)",
   "language": "python",
   "name": "python3"
  },
  "language_info": {
   "codemirror_mode": {
    "name": "ipython",
    "version": 3
   },
   "file_extension": ".py",
   "mimetype": "text/x-python",
   "name": "python",
   "nbconvert_exporter": "python",
   "pygments_lexer": "ipython3",
   "version": "3.9.13"
  }
 },
 "nbformat": 4,
 "nbformat_minor": 5
}
