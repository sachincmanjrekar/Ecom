{
 "cells": [
  {
   "cell_type": "code",
   "execution_count": null,
   "id": "ea12bf82",
   "metadata": {},
   "outputs": [],
   "source": [
    "import os\n",
    "import re\n",
    "def verification(test_mail):                                  #'verification' function return True if given mailID already exist,False otherwise\n",
    "    DB=os.path.isfile('EcomUser.txt')                       \n",
    "    if(DB):                                                   # 'DB' variable return True Check if 'Database file EcomUser.txt' containing 'EcomUserId and Password' exist\n",
    "        f=open(\"EcomUser.txt\",\"r\")\n",
    "        result_3=False\n",
    "        for line in f:            \n",
    "            line=line.rstrip()                                 #By default rstrip removes white spaces at the tail end\n",
    "            a=line.split()                                     #It will split mailID and password, default splitter is a space(\" \")\n",
    "            if (a[0]==test_mail):                              #a[0] contains mail id, a[1] contains the password\n",
    "                result_3=True\n",
    "                f.close()\n",
    "                return result_3\n",
    "        f.close()\n",
    "        return result_3\n",
    "    else:\n",
    "        return False\n",
    "    "
   ]
  },
  {
   "cell_type": "code",
   "execution_count": null,
   "id": "1a5c28e9",
   "metadata": {},
   "outputs": [],
   "source": []
  }
 ],
 "metadata": {
  "hide_input": false,
  "kernelspec": {
   "display_name": "Python 3 (ipykernel)",
   "language": "python",
   "name": "python3"
  },
  "language_info": {
   "codemirror_mode": {
    "name": "ipython",
    "version": 3
   },
   "file_extension": ".py",
   "mimetype": "text/x-python",
   "name": "python",
   "nbconvert_exporter": "python",
   "pygments_lexer": "ipython3",
   "version": "3.9.13"
  }
 },
 "nbformat": 4,
 "nbformat_minor": 5
}
