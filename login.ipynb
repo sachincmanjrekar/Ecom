{
 "cells": [
  {
   "cell_type": "code",
   "execution_count": null,
   "id": "9c328874",
   "metadata": {},
   "outputs": [],
   "source": [
    "def login():                                                    # login() function checks for Successful LOGIN\n",
    "    from ipynb.fs.full.validate_email import Validate_emailid\n",
    "    from ipynb.fs.full.validate_pw import Validate_password\n",
    "    from ipynb.fs.full.verification import verification\n",
    "    test_mail = input(\"\\nEnter the mailID : \")\n",
    "    RESULT_1=Validate_emailid(test_mail)\n",
    "    test_password = input(\"\\nEnter the Password : \")\n",
    "    RESULT_2 = Validate_password(test_password)\n",
    "\n",
    "    if(RESULT_1):\n",
    "        RESULT_3 = verification(test_mail)\n",
    "        \n",
    "        if(not RESULT_3):\n",
    "            print(\"\\nGiven mailID doesn't exist\\n Please Register\")\n",
    "        elif(RESULT_3 and not RESULT_2):\n",
    "            print(\"\\nEcomUser name FOUND, but Password does not match\")\n",
    "        elif(RESULT_3 and RESULT_2):\n",
    "            f=open(\"EcomUser.txt\",\"r\")\n",
    "            for line in f:\n",
    "                line=line.rstrip()\n",
    "                a=line.split()\n",
    "                if (a[0]==test_mail):\n",
    "                    if (a[1]==test_password):\n",
    "                        print(\"\\nPassword Matches for the given email address, LOGIN SUCCESSFUL \")\n",
    "                        \n",
    "                        return True\n",
    "                    else:\n",
    "                        print(\"\\nEcomUser name FOUND, but Password does not match\")\n",
    "                        return False\n",
    "            \n",
    "    else:\n",
    "        print(\"Invalid MailID\")\n",
    "        return False"
   ]
  }
 ],
 "metadata": {
  "hide_input": false,
  "kernelspec": {
   "display_name": "Python 3 (ipykernel)",
   "language": "python",
   "name": "python3"
  },
  "language_info": {
   "codemirror_mode": {
    "name": "ipython",
    "version": 3
   },
   "file_extension": ".py",
   "mimetype": "text/x-python",
   "name": "python",
   "nbconvert_exporter": "python",
   "pygments_lexer": "ipython3",
   "version": "3.9.13"
  }
 },
 "nbformat": 4,
 "nbformat_minor": 5
}
