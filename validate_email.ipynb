{
 "cells": [
  {
   "cell_type": "code",
   "execution_count": 1,
   "id": "db1c91cd",
   "metadata": {},
   "outputs": [],
   "source": [
    "import re\n",
    "def Validate_emailid(email):                                     #Validate if Given 'MailID' matches with minimum criteria\n",
    "    pattern_1 =  \"^[a-zA-Z]+\\w*[@][a-zA-Z]+[.][a-zA-Z]{2,3}$\"    #Validation done with help of Regular Expression\n",
    "    result_1 = re.match(pattern_1, email)\n",
    "    if(result_1):\n",
    "        return True\n",
    "    else:\n",
    "        return False"
   ]
  },
  {
   "cell_type": "code",
   "execution_count": null,
   "id": "5a9d5dc9",
   "metadata": {},
   "outputs": [],
   "source": []
  }
 ],
 "metadata": {
  "hide_input": false,
  "kernelspec": {
   "display_name": "Python 3 (ipykernel)",
   "language": "python",
   "name": "python3"
  },
  "language_info": {
   "codemirror_mode": {
    "name": "ipython",
    "version": 3
   },
   "file_extension": ".py",
   "mimetype": "text/x-python",
   "name": "python",
   "nbconvert_exporter": "python",
   "pygments_lexer": "ipython3",
   "version": "3.9.13"
  }
 },
 "nbformat": 4,
 "nbformat_minor": 5
}
