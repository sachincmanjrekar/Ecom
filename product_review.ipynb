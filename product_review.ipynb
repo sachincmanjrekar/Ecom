{
 "cells": [
  {
   "cell_type": "code",
   "execution_count": 1,
   "id": "43e5ec34",
   "metadata": {},
   "outputs": [],
   "source": [
    "def Product_Review(Product):              #Giving review \n",
    "    f=input('Did you Bought any product before in the Ecom Website and Would like to give reviews\\n Yes \\nNo')\n",
    "    if f==\"Yes\":\n",
    "        print('Followings are the Products listed in the Ecom Website\\n')\n",
    "        print(Product[['name','brand']])\n",
    "        Product_Purchase=[]\n",
    "        while True:\n",
    "            name=input(\"Enter Name of the Product\\n\")\n",
    "            if name not in list(Product['name']):\n",
    "                print(\"Please enter Right name of the Product\\n\")\n",
    "                continue\n",
    "            else:\n",
    "                rating_status=input(\"Have You given rating for the Product\\n Yes \\nNo\")\n",
    "                if rating_status=='No':\n",
    "                    old_average = Product.loc[Product['name']==name,'Ratings']\n",
    "                    n = Product.loc[Product['name']==name,'Number of People who Reviewd a Product']\n",
    "\n",
    "                    new_value = float(input(\"Please give rating between 1 to 5\"))\n",
    "\n",
    "                    new_average = (old_average * n + new_value) / (n + 1)\n",
    "\n",
    "                    Product.loc[Product['name']==name,'Ratings']=new_average\n",
    "                    Product.loc[Product['name']==name,'Number of People who Reviewd a Product']=Product.loc[Product['name']==name,'Number of People who Reviewd a Product']+1\n",
    "                    Product['Ratings'] = Product['Ratings'].round(2)\n",
    "                    more=input(\"Did you buy anymore Product? 1.Yes 2.No\")\n",
    "                    if more=='No':\n",
    "                            return Product\n",
    "                else:\n",
    "                    more=input(\"Did you buy anymore Product? 1.Yes 2.No\")\n",
    "                    if more=='No':\n",
    "                        return Product\n",
    "    else:\n",
    "        return Product"
   ]
  },
  {
   "cell_type": "code",
   "execution_count": null,
   "id": "a77b9253",
   "metadata": {},
   "outputs": [],
   "source": []
  }
 ],
 "metadata": {
  "hide_input": false,
  "kernelspec": {
   "display_name": "Python 3 (ipykernel)",
   "language": "python",
   "name": "python3"
  },
  "language_info": {
   "codemirror_mode": {
    "name": "ipython",
    "version": 3
   },
   "file_extension": ".py",
   "mimetype": "text/x-python",
   "name": "python",
   "nbconvert_exporter": "python",
   "pygments_lexer": "ipython3",
   "version": "3.9.13"
  }
 },
 "nbformat": 4,
 "nbformat_minor": 5
}
