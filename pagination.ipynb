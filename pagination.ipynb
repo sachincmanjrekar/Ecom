{
 "cells": [
  {
   "cell_type": "code",
   "execution_count": null,
   "id": "af9de14e",
   "metadata": {},
   "outputs": [],
   "source": [
    "def Product_Pagination(Product):\n",
    "    Product = Product.sort_values('Ratings',ascending=False)\n",
    "    rows_per_page = 5\n",
    "    total_pages = (Product.shape[0] + rows_per_page - 1) // rows_per_page\n",
    "    current_page = 1\n",
    "    start_index = (current_page - 1) * rows_per_page\n",
    "    end_index = current_page * rows_per_page\n",
    "    current_page_Product = Product.iloc[start_index:end_index]\n",
    "    current_page_Product.reset_index(drop=True,inplace=True)\n",
    "    return current_page_Product"
   ]
  }
 ],
 "metadata": {
  "hide_input": false,
  "kernelspec": {
   "display_name": "Python 3 (ipykernel)",
   "language": "python",
   "name": "python3"
  },
  "language_info": {
   "codemirror_mode": {
    "name": "ipython",
    "version": 3
   },
   "file_extension": ".py",
   "mimetype": "text/x-python",
   "name": "python",
   "nbconvert_exporter": "python",
   "pygments_lexer": "ipython3",
   "version": "3.9.13"
  }
 },
 "nbformat": 4,
 "nbformat_minor": 5
}
